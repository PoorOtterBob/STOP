{
 "cells": [
  {
   "cell_type": "code",
   "execution_count": 3,
   "metadata": {},
   "outputs": [],
   "source": [
    "import numpy as np\n",
    "import pandas as pd\n",
    "from tqdm import tqdm"
   ]
  },
  {
   "cell_type": "code",
   "execution_count": 3,
   "metadata": {},
   "outputs": [
    {
     "name": "stderr",
     "output_type": "stream",
     "text": [
      "100%|██████████| 7/7 [00:09<00:00,  1.39s/it]\n"
     ]
    }
   ],
   "source": [
    "for year in tqdm(range(11, 17+1)):\n",
    "    years = str(year)\n",
    "    data = np.load('20' + years + '.npz')\n",
    "    data = data['x'][:31*288]\n",
    "    time_index = pd.date_range(start='20' + years +'-07-10', \n",
    "                            periods=data.shape[0], \n",
    "                            freq='5T')\n",
    "    his = pd.DataFrame(data, \n",
    "                       index=time_index,)\n",
    "    his = his.fillna(0)\n",
    "    his.to_hdf('20' + years + '.h5', \n",
    "               key='t', mode='w')"
   ]
  },
  {
   "cell_type": "code",
   "execution_count": 7,
   "metadata": {},
   "outputs": [
    {
     "data": {
      "text/plain": [
       "(8928, 871)"
      ]
     },
     "execution_count": 7,
     "metadata": {},
     "output_type": "execute_result"
    }
   ],
   "source": [
    "his.values.shape"
   ]
  },
  {
   "cell_type": "code",
   "execution_count": 6,
   "metadata": {},
   "outputs": [
    {
     "name": "stderr",
     "output_type": "stream",
     "text": [
      "100%|██████████| 7/7 [00:00<00:00, 25.96it/s]\n"
     ]
    }
   ],
   "source": [
    "for year in tqdm(range(11, 17+1)):\n",
    "    years = str(year)\n",
    "    adj = np.load('20' + years + '_adj.npz')['x']\n",
    "    np.save('20' + years + '_adj.npy', adj)"
   ]
  },
  {
   "cell_type": "code",
   "execution_count": 7,
   "metadata": {},
   "outputs": [
    {
     "data": {
      "text/plain": [
       "(871, 871)"
      ]
     },
     "execution_count": 7,
     "metadata": {},
     "output_type": "execute_result"
    }
   ],
   "source": [
    "adj.shape"
   ]
  }
 ],
 "metadata": {
  "kernelspec": {
   "display_name": "stkood",
   "language": "python",
   "name": "python3"
  },
  "language_info": {
   "codemirror_mode": {
    "name": "ipython",
    "version": 3
   },
   "file_extension": ".py",
   "mimetype": "text/x-python",
   "name": "python",
   "nbconvert_exporter": "python",
   "pygments_lexer": "ipython3",
   "version": "3.11.5"
  }
 },
 "nbformat": 4,
 "nbformat_minor": 2
}
